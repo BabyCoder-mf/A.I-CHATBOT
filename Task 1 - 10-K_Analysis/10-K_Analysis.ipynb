{
 "cells": [
  {
   "cell_type": "markdown",
   "metadata": {},
   "source": [
    "# Introduction\n",
    "Welcome to the Financial Analysis Notebook! In this notebook, we delve into the financial performance of three tech giants: Microsoft, Tesla, and Apple. By leveraging Python and the pandas library within a Jupyter Notebook environment, we aim to uncover insights from key financial metrics over the past three fiscal years.\n",
    "\n",
    "\n",
    "**Methodology:**\n",
    "\n",
    "**Data Extraction:** We extracted financial data from 10-K filings for Microsoft, Tesla, and Apple's last three fiscal years. Key metrics like Total Revenue, Net Income, and Total Assets were organized into a spreadsheet.\n",
    "\n",
    "**Python Analysis:**\n",
    " Using pandas, we loaded the data into a DataFrame and performed analyses. We calculated year-over-year changes for Total Revenue and Net Income, explored aggregate functions, and conducted groupings to analyze the data.\n",
    "\n",
    "**Findings:** Our analysis reveals trends and insights into the financial health of these companies, informing strategic decision-making.\n",
    "\n",
    "Join us as we unravel the financial story behind these tech giants!"
   ]
  },
  {
   "cell_type": "markdown",
   "metadata": {},
   "source": [
    "## Import libraries and load csv file"
   ]
  },
  {
   "cell_type": "code",
   "execution_count": 1,
   "metadata": {},
   "outputs": [],
   "source": [
    "import pandas as pd"
   ]
  },
  {
   "cell_type": "code",
   "execution_count": 2,
   "metadata": {},
   "outputs": [],
   "source": [
    "df = pd.read_csv('C:/Users/HP/Documents/Data Analysis/BCG/Task 1 - 10-K_Analysis/10-K Filings.csv')"
   ]
  },
  {
   "cell_type": "code",
   "execution_count": 5,
   "metadata": {},
   "outputs": [
    {
     "name": "stdout",
     "output_type": "stream",
     "text": [
      "Index(['Company', 'Fiscal Year', 'Total Revenue($ millions)', 'Net Income',\n",
      "       'Total Assets', 'Total Liabilities', 'CFFO '],\n",
      "      dtype='object')\n"
     ]
    }
   ],
   "source": [
    "print(df.columns)\n"
   ]
  },
  {
   "cell_type": "code",
   "execution_count": 30,
   "metadata": {},
   "outputs": [
    {
     "name": "stdout",
     "output_type": "stream",
     "text": [
      "     Company  Fiscal Year Total Revenue($ millions)  Net Income Total Assets  \\\n",
      "0  Microsoft         2023                    211915       72361       411976   \n",
      "1  Microsoft         2022                    198270       72738       364840   \n",
      "2  Microsoft         2021                    168088       61271       333779   \n",
      "3      Tesla         2023                    96773        14974      106618    \n",
      "4      Tesla         2022                     81462       12587        82338   \n",
      "5      Tesla         2021                     53823        5644        62131   \n",
      "6      Apple         2023                    383285       96995       352583   \n",
      "7      Apple         2022                    394328       99803       352755   \n",
      "8      Apple         2021                    365817       94680       351002   \n",
      "\n",
      "  Total Liabilities   CFFO   \n",
      "0            205753   87582  \n",
      "1            198298   89035  \n",
      "2            191791   76740  \n",
      "3            43009   14974   \n",
      "4             36440   14724  \n",
      "5             30548   11497  \n",
      "6            290437  110543  \n",
      "7           302083   122151  \n",
      "8            287912  104038  \n"
     ]
    }
   ],
   "source": [
    "print(df)"
   ]
  },
  {
   "cell_type": "markdown",
   "metadata": {},
   "source": [
    "## Perecentage% change in revenue and net income for each company"
   ]
  },
  {
   "cell_type": "code",
   "execution_count": 46,
   "metadata": {},
   "outputs": [],
   "source": [
    "df['Revenue Growth (%)'] = df.groupby(['Company'])['Total Revenue($ millions)'].pct_change() * 100\n",
    "df['Net Income Growth (%)'] = df.groupby(['Company'])['Net Income'].pct_change() * 100"
   ]
  },
  {
   "cell_type": "code",
   "execution_count": 47,
   "metadata": {},
   "outputs": [
    {
     "name": "stdout",
     "output_type": "stream",
     "text": [
      "     Company  Fiscal Year  Total Revenue($ millions)  Net Income  \\\n",
      "0  Microsoft         2023                     211915       72361   \n",
      "1  Microsoft         2022                     198270       72738   \n",
      "2  Microsoft         2021                     168088       61271   \n",
      "3      Tesla         2023                      96773       14974   \n",
      "4      Tesla         2022                      81462       12587   \n",
      "5      Tesla         2021                      53823        5644   \n",
      "6      Apple         2023                     383285       96995   \n",
      "7      Apple         2022                     394328       99803   \n",
      "8      Apple         2021                     365817       94680   \n",
      "\n",
      "   Total Assets  Total Liabilities   CFFO   Revenue Growth (%)  \\\n",
      "0        411976             205753   87582                 NaN   \n",
      "1        364840             198298   89035           -6.438902   \n",
      "2        333779             191791   76740          -15.222676   \n",
      "3        106618              43009   14974                 NaN   \n",
      "4         82338              36440   14724          -15.821562   \n",
      "5         62131              30548   11497          -33.928703   \n",
      "6        352583             290437  110543                 NaN   \n",
      "7        352755             302083  122151            2.881146   \n",
      "8        351002             287912  104038           -7.230275   \n",
      "\n",
      "   Net Income Growth (%)       ROA       ROE  \n",
      "0                    NaN  0.175644  0.351689  \n",
      "1               0.520999  0.199370  0.366812  \n",
      "2             -15.764800  0.183568  0.319468  \n",
      "3                    NaN  0.140445  0.348160  \n",
      "4             -15.940964  0.152870  0.345417  \n",
      "5             -55.160086  0.090840  0.184758  \n",
      "6                    NaN  0.275098  0.333962  \n",
      "7               2.894995  0.282924  0.330383  \n",
      "8              -5.133112  0.269742  0.328850  \n"
     ]
    }
   ],
   "source": [
    "print(df)\n"
   ]
  },
  {
   "cell_type": "markdown",
   "metadata": {},
   "source": [
    "**Analysis**:\n",
    "\n",
    "**Net Income Growth**:\n",
    "\n",
    "**Microsoft**: Experienced relatively stable net income growth over the years, indicating consistent profitability and effective cost management practices.\n",
    "\n",
    "**Tesla**: Exhibited significant fluctuations in net income growth, especially with a sharp decrease from 2021 to 2022, suggesting challenges in maintaining consistent profitability.\n",
    "\n",
    "**Apple**: Demonstrated relatively stable net income growth trends, similar to Microsoft, reflecting consistent profitability and effective financial management strategies.\n",
    "\n",
    "**Revenue Growth**:\n",
    "**Microsoft**: Saw a negative revenue growth from 2021 to 2022 but experienced positive growth from 2022 to 2023, indicating a recovery and expansion in revenue streams.\n",
    "\n",
    "**Tesla**: Experienced a significant decrease in revenue growth from 2021 to 2022, followed by an increase from 2022 to 2023, reflecting challenges and subsequent recovery.\n",
    "\n",
    "**Apple**: Witnessed negative revenue growth from 2021 to 2022 but turned positive from 2022 to 2023, suggesting resilience and strategic adjustments in revenue generation efforts."
   ]
  },
  {
   "cell_type": "markdown",
   "metadata": {},
   "source": [
    "## Aggregate functions"
   ]
  },
  {
   "cell_type": "code",
   "execution_count": 40,
   "metadata": {},
   "outputs": [],
   "source": [
    "# Aggregate functions by company\n",
    "company_stats = df.groupby('Company').agg({\n",
    "    'Total Revenue($ millions)': ['mean', 'median', 'min', 'max'],\n",
    "    'Net Income': ['mean', 'median', 'min', 'max'],\n",
    "    'Total Assets': ['mean', 'median', 'min', 'max']\n",
    "})\n",
    "\n",
    "# Aggregate functions over years\n",
    "yearly_stats = df.groupby('Fiscal Year').agg({\n",
    "    'Total Revenue($ millions)': ['mean', 'median', 'min', 'max'],\n",
    "    'Net Income': ['mean', 'median', 'min', 'max'],\n",
    "    'Total Assets': ['mean', 'median', 'min', 'max']\n",
    "})\n",
    "\n",
    "# Aggregate functions by company and year\n",
    "company_yearly_stats = df.groupby(['Company', 'Fiscal Year']).agg({\n",
    "    'Total Revenue($ millions)': ['mean', 'median', 'min', 'max'],\n",
    "    'Net Income': ['mean', 'median', 'min', 'max'],\n",
    "    'Total Assets': ['mean', 'median', 'min', 'max']\n",
    "})\n"
   ]
  },
  {
   "cell_type": "code",
   "execution_count": 41,
   "metadata": {},
   "outputs": [
    {
     "name": "stdout",
     "output_type": "stream",
     "text": [
      "Company Statistics:\n",
      "          Total Revenue($ millions)                              Net Income  \\\n",
      "                               mean    median     min     max          mean   \n",
      "Company                                                                       \n",
      "Apple                 381143.333333  383285.0  365817  394328  97159.333333   \n",
      "Microsoft             192757.666667  198270.0  168088  211915  68790.000000   \n",
      "Tesla                  77352.666667   81462.0   53823   96773  11068.333333   \n",
      "\n",
      "                                   Total Assets                            \n",
      "            median    min    max           mean    median     min     max  \n",
      "Company                                                                    \n",
      "Apple      96995.0  94680  99803  352113.333333  352583.0  351002  352755  \n",
      "Microsoft  72361.0  61271  72738  370198.333333  364840.0  333779  411976  \n",
      "Tesla      12587.0   5644  14974   83695.666667   82338.0   62131  106618  \n",
      "\n",
      "Yearly Statistics:\n",
      "            Total Revenue($ millions)                             Net Income  \\\n",
      "                                 mean    median    min     max          mean   \n",
      "Fiscal Year                                                                    \n",
      "2021                    195909.333333  168088.0  53823  365817  53865.000000   \n",
      "2022                    224686.666667  198270.0  81462  394328  61709.333333   \n",
      "2023                    230657.666667  211915.0  96773  383285  61443.333333   \n",
      "\n",
      "                                     Total Assets                            \n",
      "              median    min    max           mean    median     min     max  \n",
      "Fiscal Year                                                                  \n",
      "2021         61271.0   5644  94680  248970.666667  333779.0   62131  351002  \n",
      "2022         72738.0  12587  99803  266644.333333  352755.0   82338  364840  \n",
      "2023         72361.0  14974  96995  290392.333333  352583.0  106618  411976  \n",
      "\n",
      "Company-Yearly Statistics:\n",
      "                      Total Revenue($ millions)                            \\\n",
      "                                           mean    median     min     max   \n",
      "Company   Fiscal Year                                                       \n",
      "Apple     2021                         365817.0  365817.0  365817  365817   \n",
      "          2022                         394328.0  394328.0  394328  394328   \n",
      "          2023                         383285.0  383285.0  383285  383285   \n",
      "Microsoft 2021                         168088.0  168088.0  168088  168088   \n",
      "          2022                         198270.0  198270.0  198270  198270   \n",
      "          2023                         211915.0  211915.0  211915  211915   \n",
      "Tesla     2021                          53823.0   53823.0   53823   53823   \n",
      "          2022                          81462.0   81462.0   81462   81462   \n",
      "          2023                          96773.0   96773.0   96773   96773   \n",
      "\n",
      "                      Net Income                        Total Assets  \\\n",
      "                            mean   median    min    max         mean   \n",
      "Company   Fiscal Year                                                  \n",
      "Apple     2021           94680.0  94680.0  94680  94680     351002.0   \n",
      "          2022           99803.0  99803.0  99803  99803     352755.0   \n",
      "          2023           96995.0  96995.0  96995  96995     352583.0   \n",
      "Microsoft 2021           61271.0  61271.0  61271  61271     333779.0   \n",
      "          2022           72738.0  72738.0  72738  72738     364840.0   \n",
      "          2023           72361.0  72361.0  72361  72361     411976.0   \n",
      "Tesla     2021            5644.0   5644.0   5644   5644      62131.0   \n",
      "          2022           12587.0  12587.0  12587  12587      82338.0   \n",
      "          2023           14974.0  14974.0  14974  14974     106618.0   \n",
      "\n",
      "                                                 \n",
      "                         median     min     max  \n",
      "Company   Fiscal Year                            \n",
      "Apple     2021         351002.0  351002  351002  \n",
      "          2022         352755.0  352755  352755  \n",
      "          2023         352583.0  352583  352583  \n",
      "Microsoft 2021         333779.0  333779  333779  \n",
      "          2022         364840.0  364840  364840  \n",
      "          2023         411976.0  411976  411976  \n",
      "Tesla     2021          62131.0   62131   62131  \n",
      "          2022          82338.0   82338   82338  \n",
      "          2023         106618.0  106618  106618  \n"
     ]
    }
   ],
   "source": [
    "print(\"Company Statistics:\")\n",
    "print(company_stats)\n",
    "\n",
    "print(\"\\nYearly Statistics:\")\n",
    "print(yearly_stats)\n",
    "\n",
    "print(\"\\nCompany-Yearly Statistics:\")\n",
    "print(company_yearly_stats)\n"
   ]
  },
  {
   "cell_type": "markdown",
   "metadata": {},
   "source": [
    "**Company Statistics**:\n",
    "\n",
    "**Total Revenue ($ millions)**:\n",
    "\n",
    "**Apple**: On average, Apple generated approximately 381,143 million dollars in total revenue, with a range from 365,817 million dollars to 394,328 million dollars.\n",
    "\n",
    "**Microsoft**: Microsoft had an average total revenue of around 192,758 million dollars, ranging from 168,088 million dollars to 211,915 million dollars.\n",
    "\n",
    "**Tesla**: Tesla's average total revenue was about 77,353 million dollars, ranging from 53,823 million dollars to 96,773 million dollars.\n",
    "\n",
    "**Net Income**:\n",
    "\n",
    "**Apple**: The average net income for Apple was approximately 97,159 million dollars, with a range from 94,680 million dollars to 99,803 million dollars.\n",
    "\n",
    "**Microsoft**: Microsoft had an average net income of about 68,790 million dollars, ranging from 61,271 million dollars to 72,738 million dollars.\n",
    "\n",
    "**Tesla**: Tesla's average net income was around 11,068 million dollars, with a range from 5,644 million dollars to 14,974 million dollars.\n",
    "\n",
    "**Total Assets**:\n",
    "\n",
    "**Apple**: On average, Apple's total assets amounted to approximately 352,113 million dollars, ranging from 351,002 million dollars to 352,755 million dollars.\n",
    "\n",
    "**Microsoft**: Microsoft had an average total assets value of about 370,198 million dollars, ranging from 333,779 million dollars to 411,976 million dollars.\n",
    "\n",
    "**Tesla**: Tesla's average total assets were approximately 83,696 million dollars, with a range from 62,131 million dollars to 106,618 million dollars.\n",
    "\n",
    "**Interpretation of Yearly Statistics:**\n",
    "\n",
    "**Total Revenue ($ millions):**\n",
    "The average total revenue increased over the years, with the highest average in 2023.\n",
    "Each year saw an increase in median total revenue compared to the previous year.\n",
    "\n",
    "**Net Income:**\n",
    "The average net income fluctuated over the years but generally increased from 2021 to 2022 before decreasing slightly in 2023.\n",
    "Each year saw an increase in median net income compared to the previous year.\n",
    "\n",
    "**Total Assets:**\n",
    "The average total assets increased over the years, with the highest average in 2022.\n",
    "Each year saw an increase in median total assets compared to the previous year.\n",
    "These statistics provide insights into the financial performance and asset management strategies of each company over the years, highlighting trends in total revenue, net income, and total assets."
   ]
  },
  {
   "cell_type": "markdown",
   "metadata": {},
   "source": [
    "## Calculate Return on Assets (ROA) and Return on Equity (ROE) for each company"
   ]
  },
  {
   "cell_type": "code",
   "execution_count": 42,
   "metadata": {},
   "outputs": [
    {
     "name": "stdout",
     "output_type": "stream",
     "text": [
      "Profitability Ratios:\n",
      "                ROA       ROE\n",
      "Company                      \n",
      "Apple      0.275922  0.331065\n",
      "Microsoft  0.186194  0.345989\n",
      "Tesla      0.128052  0.292778\n"
     ]
    }
   ],
   "source": [
    "\n",
    "df['ROA'] = df['Net Income'] / df['Total Assets']\n",
    "df['ROE'] = df['Net Income'] / df['Total Liabilities']\n",
    "\n",
    "# Group by company and calculate average ROA and ROE\n",
    "profitability_ratios = df.groupby('Company').agg({\n",
    "    'ROA': 'mean',\n",
    "    'ROE': 'mean'\n",
    "})\n",
    "\n",
    "print(\"Profitability Ratios:\")\n",
    "print(profitability_ratios)\n"
   ]
  },
  {
   "cell_type": "markdown",
   "metadata": {},
   "source": [
    "**Return on Assets (ROA):**\n",
    "\n",
    "**Apple:** The average return on assets (ROA) for Apple is approximately 27.59%, indicating that, on average, Apple generates around 27.59 cents of net income for every dollar of total assets.\n",
    "\n",
    "**Microsoft:** Microsoft's average ROA is approximately 18.62%, suggesting that Microsoft generates around 18.62 cents of net income for every dollar of total assets.\n",
    "\n",
    "**Tesla:** Tesla's average ROA is approximately 12.81%, indicating that Tesla generates around 12.81 cents of net income for every dollar of total assets.\n",
    "\n",
    "**Return on Equity (ROE):**\n",
    "\n",
    "**Apple:** The average return on equity (ROE) for Apple is approximately 33.11%, indicating that, on average, Apple generates around 33.11 cents of net income for every dollar of equity.\n",
    "\n",
    "**Microsoft:** Microsoft's average ROE is approximately 34.60%, suggesting that Microsoft generates around 34.60 cents of net income for every dollar of equity.\n",
    "\n",
    "**Tesla:** Tesla's average ROE is approximately 29.28%, indicating that Tesla generates around 29.28 cents of net income for every dollar of equity.\n",
    "\n",
    "**Overall Assessment:**\n",
    "Microsoft has a relatively lower ROA compared to Apple and Tesla, indicating that it generates less net income per dollar of total assets. However, Microsoft's ROE is relatively higher, suggesting that it generates more net income per dollar of equity compared to Apple and Tesla.\n",
    "\n",
    "Apple has the highest ROA among the three companies, indicating that it generates the highest net income per dollar of total assets. Additionally, Apple's ROE is also strong, indicating efficient utilization of equity.\n",
    "\n",
    "Tesla has the lowest ROA and ROE among the three companies, suggesting that it generates less net income per dollar of both total assets and equity compared to Apple and Microsoft.\n",
    "\n",
    "These profitability ratios provide insights into how efficiently each company generates profits relative to its assets and equity, which are crucial indicators of financial performance and efficiency."
   ]
  },
  {
   "cell_type": "markdown",
   "metadata": {},
   "source": [
    "## Trends over the years"
   ]
  },
  {
   "cell_type": "code",
   "execution_count": 43,
   "metadata": {},
   "outputs": [
    {
     "data": {
      "image/png": "[encoded data removed]",
      "text/plain": [
       "<Figure size 1000x600 with 1 Axes>"
      ]
     },
     "metadata": {},
     "output_type": "display_data"
    }
   ],
   "source": [
    "import matplotlib.pyplot as plt\n",
    "\n",
    "# Group by fiscal year and calculate average total revenue, net income, and total assets\n",
    "yearly_trends = df.groupby('Fiscal Year').agg({\n",
    "    'Total Revenue($ millions)': 'mean',\n",
    "    'Net Income': 'mean',\n",
    "    'Total Assets': 'mean'\n",
    "}).reset_index()\n",
    "\n",
    "# Plot the trends over the years\n",
    "plt.figure(figsize=(10, 6))\n",
    "plt.plot(yearly_trends['Fiscal Year'], yearly_trends['Total Revenue($ millions)'], label='Total Revenue')\n",
    "plt.plot(yearly_trends['Fiscal Year'], yearly_trends['Net Income'], label='Net Income')\n",
    "plt.plot(yearly_trends['Fiscal Year'], yearly_trends['Total Assets'], label='Total Assets')\n",
    "plt.xlabel('Fiscal Year')\n",
    "plt.ylabel('Amount ($ millions)')\n",
    "plt.title('Trend Analysis')\n",
    "plt.legend()\n",
    "plt.grid(True)\n",
    "plt.show()\n"
   ]
  },
  {
   "cell_type": "code",
   "execution_count": 44,
   "metadata": {},
   "outputs": [
    {
     "name": "stdout",
     "output_type": "stream",
     "text": [
      "Yearly Trends Statistics:\n",
      "   Fiscal Year  Total Revenue($ millions)    Net Income   Total Assets\n",
      "0         2021              195909.333333  53865.000000  248970.666667\n",
      "1         2022              224686.666667  61709.333333  266644.333333\n",
      "2         2023              230657.666667  61443.333333  290392.333333\n"
     ]
    }
   ],
   "source": [
    "# Group by fiscal year and calculate average total revenue, net income, and total assets\n",
    "yearly_trends = df.groupby('Fiscal Year').agg({\n",
    "    'Total Revenue($ millions)': 'mean',\n",
    "    'Net Income': 'mean',\n",
    "    'Total Assets': 'mean'\n",
    "}).reset_index()\n",
    "\n",
    "print(\"Yearly Trends Statistics:\")\n",
    "print(yearly_trends)\n"
   ]
  },
  {
   "cell_type": "markdown",
   "metadata": {},
   "source": [
    "**Yearly Trends Statistics:**\n",
    "\n",
    "**Total Revenue ($ millions):**\n",
    "\n",
    "**2021:** The average total revenue in 2021 was approximately $195,909.33 million.\n",
    "\n",
    "**2022:** The average total revenue increased to around $224,686.67 million in 2022, indicating a positive trend in revenue growth.\n",
    "\n",
    "**2023:** Further growth in revenue was observed in 2023, with the average total revenue reaching approximately $230,657.67 million. This suggests continued expansion or increased sales for the companies.\n",
    "\n",
    "**Net Income:**\n",
    "\n",
    "**2021:** The average net income in 2021 was approximately $53,865.00 million.\n",
    "\n",
    "**2022**: Net income increased to around $61,709.33 million in 2022, reflecting improved profitability compared to the previous year.\n",
    "\n",
    "**2023:** Despite a slight decrease, the average net income remained relatively stable at approximately $61,443.33 million in 2023.\n",
    "\n",
    "**Total Assets:**\n",
    "\n",
    "**2021:** The average total assets in 2021 were approximately $248,970.67 million.\n",
    "\n",
    "**2022:** Total assets increased to around $266,644.33 million in 2022, indicating potential investments or expansion activities by the companies.\n",
    "\n",
    "**2023** Further growth in total assets was observed in 2023, with the average reaching approximately $290,392.33 million. This suggests increased capital investment or acquisitions during the period.\n",
    "\n",
    "**Overall Assessment:**\n",
    "The analysis of yearly trends indicates positive growth in total revenue and total assets over the years, suggesting expansion and increased business activities.\n",
    "Despite fluctuations, net income also shows a positive trend, reflecting improved profitability and financial performance over the years.\n",
    "These trends suggest that the companies are effectively managing their resources and capitalizing on opportunities for growth and profitability."
   ]
  },
  {
   "cell_type": "markdown",
   "metadata": {},
   "source": [
    "**Conclusion and Insights**\n",
    "\n",
    "**Profitability Analysis:**\n",
    "Apple demonstrates the highest profitability among the companies, with a strong Return on Assets (ROA) and Return on Equity (ROE) compared to Microsoft and Tesla.\n",
    "Microsoft exhibits a relatively lower ROA but a higher ROE compared to Apple and Tesla, indicating efficient utilization of equity.\n",
    "Tesla lags behind in profitability metrics compared to Apple and Microsoft, with the lowest ROA and ROE among the three companies.\n",
    "\n",
    "**Yearly Trends Analysis:**\n",
    "Total Revenue: Overall, there is a positive trend in total revenue over the years, indicating growth and expansion for the companies.\n",
    "\n",
    "**Net Income:** Despite fluctuations, net income shows a positive trend, reflecting improved profitability over the years.\n",
    "Total Assets: Total assets have been consistently increasing, suggesting capital investment and business expansion activities.\n",
    "\n",
    "**Overall Assessment:**\n",
    "The analysis reveals that the companies have been effectively managing their resources and capitalizing on growth opportunities.\n",
    "Apple emerges as the leader in profitability, while Microsoft demonstrates efficient use of equity. Tesla faces challenges in profitability metrics but shows potential for growth.\n",
    "\n",
    "**Recommendations:**\n",
    "Continuously monitor and optimize profitability ratios to sustain and enhance financial performance.\n",
    "Focus on strategic investments and expansion initiatives to capitalize on market opportunities.\n",
    "Implement measures to improve efficiency and cost management to enhance profitability.\n"
   ]
  }
 ],
 "metadata": {
  "kernelspec": {
   "display_name": "base",
   "language": "python",
   "name": "python3"
  },
  "language_info": {
   "codemirror_mode": {
    "name": "ipython",
    "version": 3
   },
   "file_extension": ".py",
   "mimetype": "text/x-python",
   "name": "python",
   "nbconvert_exporter": "python",
   "pygments_lexer": "ipython3",
   "version": "3.11.7"
  }
 },
 "nbformat": 4,
 "nbformat_minor": 2
}
